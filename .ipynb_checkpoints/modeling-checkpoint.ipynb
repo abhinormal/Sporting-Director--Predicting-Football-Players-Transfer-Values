{
 "cells": [
  {
   "cell_type": "code",
   "execution_count": 1,
   "metadata": {},
   "outputs": [],
   "source": [
    "import numpy as np\n",
    "import pandas as pd\n",
    "\n",
    "#Custom Helper Functions\n",
    "import tools.baseline_lr as lr"
   ]
  },
  {
   "cell_type": "markdown",
   "metadata": {},
   "source": [
    "# Looking at our Dataset"
   ]
  },
  {
   "cell_type": "code",
   "execution_count": 2,
   "metadata": {},
   "outputs": [],
   "source": [
    "df = pd.read_excel('data/final_dataset.xlsx')"
   ]
  },
  {
   "cell_type": "markdown",
   "metadata": {},
   "source": [
    "# Baseline Linear Regression Model"
   ]
  },
  {
   "cell_type": "code",
   "execution_count": 3,
   "metadata": {
    "scrolled": true
   },
   "outputs": [
    {
     "name": "stdout",
     "output_type": "stream",
     "text": [
      "Attackers Train RMSE = $13618178.41\n",
      "Attackers Test RMSE = $12325829.47\n",
      "----------------------------------------\n",
      "Midfielders Train RMSE = $11964727.93\n",
      "Midfielders Test RMSE = 14559680.13\n",
      "----------------------------------------\n",
      "Defenders Train RMSE = $10131984.46\n",
      "Defenders Test RMSE = $10584086.88\n"
     ]
    }
   ],
   "source": [
    "lr.baseline_linear_regression(df)"
   ]
  }
 ],
 "metadata": {
  "kernelspec": {
   "display_name": "Python (learn-env)",
   "language": "python",
   "name": "learn-env"
  },
  "language_info": {
   "codemirror_mode": {
    "name": "ipython",
    "version": 3
   },
   "file_extension": ".py",
   "mimetype": "text/x-python",
   "name": "python",
   "nbconvert_exporter": "python",
   "pygments_lexer": "ipython3",
   "version": "3.8.5"
  }
 },
 "nbformat": 4,
 "nbformat_minor": 4
}
