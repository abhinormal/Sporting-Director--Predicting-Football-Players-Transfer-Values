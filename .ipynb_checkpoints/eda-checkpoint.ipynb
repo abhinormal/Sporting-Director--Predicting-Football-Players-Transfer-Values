{
 "cells": [
  {
   "cell_type": "code",
   "execution_count": 1,
   "metadata": {},
   "outputs": [],
   "source": [
    "import numpy as np\n",
    "import pandas as pd\n",
    "\n",
    "#Custom Helper Functions\n",
    "import tools.baseline_lr as lr"
   ]
  },
  {
   "cell_type": "markdown",
   "metadata": {},
   "source": [
    "# Looking at our Dataset"
   ]
  },
  {
   "cell_type": "code",
   "execution_count": 2,
   "metadata": {},
   "outputs": [],
   "source": [
    "df = pd.read_excel('data/final_dataset.xlsx')"
   ]
  },
  {
   "cell_type": "markdown",
   "metadata": {},
   "source": [
    "# Baseline Linear Regression Model"
   ]
  },
  {
   "cell_type": "code",
   "execution_count": 4,
   "metadata": {},
   "outputs": [
    {
     "name": "stdout",
     "output_type": "stream",
     "text": [
      "Attackers Train Score = 0.5292949503929503\n",
      "Attackers Test Score = 0.527719536347993\n",
      "Attackers Cross Validation Scores = [ 0.56039446  0.27149587  0.62972888  0.80417599 -0.12953333]\n",
      "RMSE = $12428687.34\n",
      "----------------------------------------\n",
      "Midfielders Train Score = 0.3737169442677689\n",
      "Midfielders Test Score = 0.3871436986383958\n",
      "Midfielders Cross Validation Scores = [ 0.59788256 -0.07634037  0.56180851 -6.00920434  0.19262009]\n",
      "RMSE = $11736823.84\n",
      "----------------------------------------\n",
      "Defenders Train Score = 0.3859400653443069\n",
      "Defenders Test Score = 0.3293065005664808\n",
      "Defenders Cross Validation Scores = [ 0.36731536  0.05096661  0.14394045 -0.58848273  0.13397338]\n",
      "Defenders RMSE = $8568613.82\n"
     ]
    }
   ],
   "source": [
    "lr.baseline_linear_regression(df)"
   ]
  },
  {
   "cell_type": "code",
   "execution_count": null,
   "metadata": {},
   "outputs": [],
   "source": []
  }
 ],
 "metadata": {
  "kernelspec": {
   "display_name": "Python (learn-env)",
   "language": "python",
   "name": "learn-env"
  },
  "language_info": {
   "codemirror_mode": {
    "name": "ipython",
    "version": 3
   },
   "file_extension": ".py",
   "mimetype": "text/x-python",
   "name": "python",
   "nbconvert_exporter": "python",
   "pygments_lexer": "ipython3",
   "version": "3.8.5"
  }
 },
 "nbformat": 4,
 "nbformat_minor": 4
}
