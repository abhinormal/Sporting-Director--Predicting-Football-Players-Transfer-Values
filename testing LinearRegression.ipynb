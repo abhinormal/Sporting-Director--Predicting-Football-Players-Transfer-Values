{
 "cells": [
  {
   "cell_type": "code",
   "execution_count": 1,
   "metadata": {},
   "outputs": [],
   "source": [
    "import numpy as np\n",
    "import pandas as pd\n"
   ]
  },
  {
   "cell_type": "code",
   "execution_count": 2,
   "metadata": {},
   "outputs": [],
   "source": [
    "transfermarkt = pd.read_excel('data/transfermarktFINAL.xlsx')\n",
    "goalkeeper = transfermarkt[transfermarkt['Position']=='Goalkeeper']\n",
    "attacker = transfermarkt[transfermarkt['Position']=='attack']\n",
    "midfielder = transfermarkt[transfermarkt['Position']=='midfield']\n",
    "gk_std = pd.read_excel('data/league_data/england/england_goalkeeping.xlsx')\n",
    "gk_adv = pd.read_excel('data/league_data/england/england_goalkeeping_advanced.xlsx')"
   ]
  },
  {
   "cell_type": "code",
   "execution_count": 3,
   "metadata": {},
   "outputs": [],
   "source": [
    "tm_df = transfermarkt[transfermarkt['Contract Years Left'] != 'fail']"
   ]
  },
  {
   "cell_type": "code",
   "execution_count": 4,
   "metadata": {},
   "outputs": [
    {
     "name": "stdout",
     "output_type": "stream",
     "text": [
      "<class 'pandas.core.frame.DataFrame'>\n",
      "RangeIndex: 2795 entries, 0 to 2794\n",
      "Data columns (total 8 columns):\n",
      " #   Column               Non-Null Count  Dtype \n",
      "---  ------               --------------  ----- \n",
      " 0   Player               2795 non-null   object\n",
      " 1   Club                 2795 non-null   object\n",
      " 2   Age                  2795 non-null   int64 \n",
      " 3   Position             2795 non-null   object\n",
      " 4   Nation               2795 non-null   object\n",
      " 5   Value                2795 non-null   int64 \n",
      " 6   Contract Years Left  2795 non-null   object\n",
      " 7   League               2795 non-null   object\n",
      "dtypes: int64(2), object(6)\n",
      "memory usage: 174.8+ KB\n"
     ]
    }
   ],
   "source": [
    "transfermarkt.info()"
   ]
  },
  {
   "cell_type": "code",
   "execution_count": 5,
   "metadata": {},
   "outputs": [],
   "source": [
    "object_columns = tm_df.select_dtypes(include='object')\n",
    "object_dummy = pd.get_dummies(object_columns)\n",
    "num_columns = tm_df.select_dtypes(exclude='object')\n",
    "model_df = pd.concat([object_dummy,num_columns], axis=1, join='inner')"
   ]
  },
  {
   "cell_type": "markdown",
   "metadata": {},
   "source": [
    "Modeling "
   ]
  },
  {
   "cell_type": "markdown",
   "metadata": {},
   "source": [
    "Linear regression"
   ]
  },
  {
   "cell_type": "code",
   "execution_count": 17,
   "metadata": {},
   "outputs": [],
   "source": [
    "from sklearn.model_selection import train_test_split\n",
    "from sklearn.preprocessing import StandardScaler\n",
    "from sklearn.linear_model import LinearRegression\n",
    "from sklearn.metrics import mean_squared_error"
   ]
  },
  {
   "cell_type": "code",
   "execution_count": 18,
   "metadata": {},
   "outputs": [
    {
     "data": {
      "text/plain": [
       "LinearRegression()"
      ]
     },
     "execution_count": 18,
     "metadata": {},
     "output_type": "execute_result"
    }
   ],
   "source": [
    "X = model_df.drop('Value',axis=1)\n",
    "y = model_df['Value']\n",
    "\n",
    "X_train, X_test, y_train, y_test = train_test_split(X, y , test_size = 0.2)\n",
    "\n",
    "ss = StandardScaler()\n",
    "lr = LinearRegression()\n",
    "\n",
    "X_train_scaled = ss.fit_transform(X_train)\n",
    "\n",
    "X_test_scaled = ss.transform(X_test)\n",
    "\n",
    "lr.fit(X_train_scaled, y_train)"
   ]
  },
  {
   "cell_type": "code",
   "execution_count": 19,
   "metadata": {},
   "outputs": [
    {
     "name": "stdout",
     "output_type": "stream",
     "text": [
      "Second RMSE: $ 12107683.28\n"
     ]
    }
   ],
   "source": [
    "predictions = lr.predict(X_test_scaled)\n",
    "\n",
    "RMSE = mean_squared_error(y_test, predictions, squared=False) # False returns RMSE value\n",
    "print('Second RMSE: $', round(RMSE, 2))"
   ]
  },
  {
   "cell_type": "code",
   "execution_count": null,
   "metadata": {},
   "outputs": [],
   "source": []
  }
 ],
 "metadata": {
  "kernelspec": {
   "display_name": "Python (learn-env)",
   "language": "python",
   "name": "learn-env"
  },
  "language_info": {
   "codemirror_mode": {
    "name": "ipython",
    "version": 3
   },
   "file_extension": ".py",
   "mimetype": "text/x-python",
   "name": "python",
   "nbconvert_exporter": "python",
   "pygments_lexer": "ipython3",
   "version": "3.8.5"
  }
 },
 "nbformat": 4,
 "nbformat_minor": 4
}
