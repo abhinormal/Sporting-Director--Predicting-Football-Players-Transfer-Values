{
 "cells": [
  {
   "cell_type": "code",
   "execution_count": 1,
   "metadata": {},
   "outputs": [],
   "source": [
    "import numpy as np\n",
    "import pandas as pd"
   ]
  },
  {
   "cell_type": "code",
   "execution_count": 2,
   "metadata": {},
   "outputs": [],
   "source": [
    "#Importing TransferMarkt DF\n",
    "transfermarkt = pd.read_excel('data/transfermarktFINAL.xlsx')"
   ]
  },
  {
   "cell_type": "code",
   "execution_count": 3,
   "metadata": {},
   "outputs": [],
   "source": [
    "#Importing English Premier League Data data\n",
    "\n",
    "england_standard = pd.read_excel('data/league_data/england/england_std.xlsx')\n",
    "england_shooting = pd.read_excel('data/league_data/england/england_shooting.xlsx')\n",
    "england_shot_creation = pd.read_excel('data/league_data/england/england_shot_creation.xlsx')\n",
    "england_possession = pd.read_excel('data/league_data/england/england_possession.xlsx')\n",
    "england_passing = pd.read_excel('data/league_data/england/england_passing.xlsx')\n",
    "england_defend = pd.read_excel('data/league_data/england/england_defending.xlsx')\n",
    "england_misc = pd.read_excel('data/league_data/england/england_misc.xlsx')"
   ]
  },
  {
   "cell_type": "code",
   "execution_count": 4,
   "metadata": {},
   "outputs": [],
   "source": [
    "#List of Column Names for each dataframe\n",
    "\n",
    "std_cols = [a for a in england_standard.columns]\n",
    "shooting_cols = [a for a in england_shooting.columns]\n",
    "shot_creation_cols = [a for a in england_shot_creation.columns]\n",
    "possession_cols = [a for a in england_possession.columns]\n",
    "passing_cols = [a for a in england_passing.columns]\n",
    "defending_cols = [a for a in england_defend.columns]\n",
    "misc_cols = [a for a in england_misc.columns]"
   ]
  },
  {
   "cell_type": "code",
   "execution_count": 5,
   "metadata": {},
   "outputs": [],
   "source": [
    "#Importing French Ligue 1 data\n",
    "\n",
    "france_standard = pd.read_excel('data/league_data/france/france_std.xlsx')\n",
    "france_standard.columns = std_cols\n",
    "\n",
    "france_shooting = pd.read_excel('data/league_data/france/france_shooting.xlsx')\n",
    "france_shooting.columns = shooting_cols\n",
    "\n",
    "france_shot_creation = pd.read_excel('data/league_data/france/france_shot_creation.xlsx')\n",
    "france_shot_creation.columns = shot_creation_cols\n",
    "\n",
    "france_possession = pd.read_excel('data/league_data/france/france_possession.xlsx')\n",
    "france_possession.columns = possession_cols\n",
    "\n",
    "france_passing = pd.read_excel('data/league_data/france/france_passing.xlsx')\n",
    "france_passing.columns = passing_cols\n",
    "\n",
    "france_defend = pd.read_excel('data/league_data/france/france_defending.xlsx')\n",
    "france_defend.columns = defending_cols\n",
    "\n",
    "france_misc = pd.read_excel('data/league_data/france/france_misc.xlsx')\n",
    "france_misc.columns = misc_cols"
   ]
  }
 ],
 "metadata": {
  "kernelspec": {
   "display_name": "Python 3",
   "language": "python",
   "name": "python3"
  },
  "language_info": {
   "codemirror_mode": {
    "name": "ipython",
    "version": 3
   },
   "file_extension": ".py",
   "mimetype": "text/x-python",
   "name": "python",
   "nbconvert_exporter": "python",
   "pygments_lexer": "ipython3",
   "version": "3.8.5"
  }
 },
 "nbformat": 4,
 "nbformat_minor": 4
}
